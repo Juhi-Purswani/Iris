{
 "cells": [
  {
   "cell_type": "code",
   "execution_count": 4,
   "metadata": {},
   "outputs": [
    {
     "name": "stdout",
     "output_type": "stream",
     "text": [
      "[[5.7 3.  4.2 1.2]\n",
      " [5.9 3.2 4.8 1.8]\n",
      " [7.9 3.8 6.4 2. ]\n",
      " [6.7 3.1 4.4 1.4]\n",
      " [6.1 2.8 4.7 1.2]\n",
      " [4.7 3.2 1.6 0.2]\n",
      " [6.3 2.3 4.4 1.3]\n",
      " [5.  3.  1.6 0.2]\n",
      " [6.3 2.8 5.1 1.5]\n",
      " [6.2 3.4 5.4 2.3]\n",
      " [7.  3.2 4.7 1.4]\n",
      " [4.4 3.  1.3 0.2]\n",
      " [6.7 3.  5.2 2.3]\n",
      " [6.2 2.9 4.3 1.3]\n",
      " [5.  2.  3.5 1. ]\n",
      " [4.9 3.1 1.5 0.1]\n",
      " [4.9 2.4 3.3 1. ]\n",
      " [6.5 3.  5.2 2. ]\n",
      " [4.6 3.4 1.4 0.3]\n",
      " [5.  3.3 1.4 0.2]\n",
      " [5.  3.2 1.2 0.2]\n",
      " [7.6 3.  6.6 2.1]\n",
      " [6.3 2.5 4.9 1.5]\n",
      " [6.4 3.2 4.5 1.5]\n",
      " [5.6 3.  4.1 1.3]\n",
      " [4.9 2.5 4.5 1.7]\n",
      " [5.8 4.  1.2 0.2]\n",
      " [6.9 3.2 5.7 2.3]\n",
      " [5.  3.5 1.6 0.6]\n",
      " [5.3 3.7 1.5 0.2]\n",
      " [6.8 3.  5.5 2.1]\n",
      " [4.6 3.2 1.4 0.2]\n",
      " [6.5 3.  5.5 1.8]\n",
      " [7.7 2.8 6.7 2. ]\n",
      " [5.5 2.3 4.  1.3]\n",
      " [6.3 2.7 4.9 1.8]\n",
      " [6.3 3.3 4.7 1.6]\n",
      " [6.3 2.9 5.6 1.8]\n",
      " [6.  3.4 4.5 1.6]\n",
      " [6.6 3.  4.4 1.4]\n",
      " [5.9 3.  5.1 1.8]\n",
      " [6.1 2.9 4.7 1.4]\n",
      " [5.7 2.9 4.2 1.3]\n",
      " [6.3 3.3 6.  2.5]\n",
      " [7.2 3.2 6.  1.8]\n",
      " [5.8 2.8 5.1 2.4]\n",
      " [4.9 3.  1.4 0.2]\n",
      " [6.  2.7 5.1 1.6]\n",
      " [5.7 3.8 1.7 0.3]\n",
      " [5.8 2.7 3.9 1.2]\n",
      " [5.4 3.7 1.5 0.2]\n",
      " [5.2 4.1 1.5 0.1]\n",
      " [6.  2.2 5.  1.5]\n",
      " [5.  3.4 1.6 0.4]\n",
      " [5.4 3.4 1.7 0.2]\n",
      " [5.2 3.4 1.4 0.2]\n",
      " [6.4 3.2 5.3 2.3]\n",
      " [7.7 3.  6.1 2.3]\n",
      " [6.8 2.8 4.8 1.4]\n",
      " [4.8 3.  1.4 0.1]\n",
      " [5.  3.4 1.5 0.2]\n",
      " [4.5 2.3 1.3 0.3]\n",
      " [5.8 2.7 4.1 1. ]\n",
      " [7.2 3.6 6.1 2.5]\n",
      " [6.4 2.7 5.3 1.9]\n",
      " [6.3 2.5 5.  1.9]\n",
      " [5.1 3.8 1.9 0.4]\n",
      " [6.9 3.1 5.4 2.1]\n",
      " [5.  2.3 3.3 1. ]\n",
      " [4.8 3.1 1.6 0.2]\n",
      " [5.6 2.5 3.9 1.1]\n",
      " [5.7 4.4 1.5 0.4]\n",
      " [5.1 3.8 1.6 0.2]\n",
      " [5.8 2.7 5.1 1.9]\n",
      " [5.1 3.7 1.5 0.4]]\n",
      "75\n",
      "[1 1 2 1 1 0 1 0 2 2 1 0 2 1 1 0 1 2 0 0 0 2 1 1 1 2 0 2 0 0 2 0 2 2 1 2 1\n",
      " 2 1 1 2 1 1 2 2 2 0 1 0 1 0 0 2 0 0 0 2 2 1 0 0 0 1 2 2 2 0 2 1 0 1 0 0 2\n",
      " 0]\n"
     ]
    }
   ],
   "source": [
    "import sklearn\n",
    "import numpy as np\n",
    "import pandas as pd\n",
    "from sklearn.datasets import load_iris\n",
    "from sklearn.model_selection import train_test_split\n",
    "\n",
    "# save load_iris() sklearn dataset to iris\n",
    "# if you'd like to check dataset type use: type(load_iris())\n",
    "# if you'd like to view list of attributes use: dir(load_iris())\n",
    "iris = load_iris() \n",
    "features = iris.data\n",
    "#n_sample = len(x)\n",
    "#print (n_sample)\n",
    "#print(x)\n",
    "#print(\"now with -1\")\n",
    "labels = iris.target\n",
    "#print(y)\n",
    "features_train,features_test,labels_train,labels_test=train_test_split(features,labels,test_size=0.5)\n",
    "print(features_train)\n",
    "print (len(features_train))\n",
    "print(labels_train)\n"
   ]
  },
  {
   "cell_type": "code",
   "execution_count": 5,
   "metadata": {},
   "outputs": [
    {
     "name": "stdout",
     "output_type": "stream",
     "text": [
      "74\n"
     ]
    }
   ],
   "source": [
    "from sklearn.naive_bayes import GaussianNB\n",
    "from sklearn.metrics import accuracy_score\n",
    "clf = GaussianNB()\n",
    "clf.fit(features_train,labels_train)\n",
    "pred = clf.predict(features_test)\n",
    "print(accuracy_score(labels_test,pred,  normalize=False))"
   ]
  },
  {
   "cell_type": "code",
   "execution_count": 6,
   "metadata": {},
   "outputs": [
    {
     "name": "stdout",
     "output_type": "stream",
     "text": [
      "71\n"
     ]
    }
   ],
   "source": [
    "from sklearn import tree\n",
    "clf_tree = tree.DecisionTreeClassifier()\n",
    "clf_tree = clf_tree.fit(features_train, labels_train)\n",
    "pred = clf_tree.predict(features_test)\n",
    "print(accuracy_score(labels_test,pred,  normalize=False))"
   ]
  },
  {
   "cell_type": "code",
   "execution_count": 7,
   "metadata": {},
   "outputs": [
    {
     "name": "stdout",
     "output_type": "stream",
     "text": [
      "74\n"
     ]
    }
   ],
   "source": [
    "from sklearn import svm\n",
    "from sklearn.metrics import accuracy_score\n",
    "clf_svm = svm.SVC()\n",
    "clf_svm.fit(features_train,labels_train)\n",
    "pred = clf_svm.predict(features_test)\n",
    "print(accuracy_score(labels_test,pred,  normalize=False))"
   ]
  },
  {
   "cell_type": "code",
   "execution_count": null,
   "metadata": {},
   "outputs": [],
   "source": []
  }
 ],
 "metadata": {
  "kernelspec": {
   "display_name": "Python 2",
   "language": "python",
   "name": "python2"
  },
  "language_info": {
   "codemirror_mode": {
    "name": "ipython",
    "version": 2
   },
   "file_extension": ".py",
   "mimetype": "text/x-python",
   "name": "python",
   "nbconvert_exporter": "python",
   "pygments_lexer": "ipython2",
   "version": "2.7.15"
  }
 },
 "nbformat": 4,
 "nbformat_minor": 2
}
